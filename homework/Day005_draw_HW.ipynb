{
 "cells": [
  {
   "cell_type": "code",
   "execution_count": 44,
   "metadata": {},
   "outputs": [],
   "source": [
    "import cv2\n",
    "import time\n",
    "import numpy as np\n",
    "\n",
    "img_path = 'lena.png'\n",
    "img = cv2.imread(img_path)\n",
    "\n",
    "# case 1\n",
    "# 每個 channel 個別做直方圖均衡\n",
    "equalHist_by_channel = [img[..., 0], img[..., 1], img[..., 2]]\n",
    "equalHist_by_channel = [cv2.equalizeHist(i) for i in equalHist_by_channel]\n",
    "# 組合經過直方圖均衡的每個 channel\n",
    "img_bgr_equal = np.stack(equalHist_by_channel, axis=-1)\n",
    "\n",
    "# case 2 - 轉換 color space 後只對其中一個 channel 做直方圖均衡\n",
    "img_hsv = cv2.cvtColor(img, cv2.COLOR_BGR2HSV)\n",
    "img_hsv[..., -1] = cv2.equalizeHist(img_hsv[..., -1])\n",
    "img_hsv_equal = cv2.cvtColor(img_hsv, cv2.COLOR_HSV2BGR)\n",
    "\n",
    "\n",
    "\n",
    "# 水平翻轉 (horizontal)\n",
    "img_hflip = img_hsv_equal[:, ::-1, :]\n",
    "\n",
    "while True:\n",
    "    cv2.imshow('img_hflip', img_hflip)\n",
    "    k = cv2.waitKey(0)\n",
    "    if k == 27:\n",
    "        cv2.destroyAllWindows()\n",
    "        break\n",
    "\n",
    "\n",
    "\n",
    "# 將圖片縮小成原本的 20%\n",
    "img_test = cv2.resize(img_hflip, None, fx=0.5, fy=0.5)\n",
    "\n",
    "\n",
    "while True:\n",
    "    cv2.imshow('img_resize', img_test)\n",
    "    k = cv2.waitKey(0)\n",
    "    if k == 27:\n",
    "        cv2.destroyAllWindows()\n",
    "        break\n",
    "        \n",
    "img_test3=cv2.rectangle(img_test,(45,25),(230,255),(0,0,255),3)\n",
    "\n",
    "\n",
    "while True:\n",
    "    cv2.imshow('retangle', img_test3)\n",
    "    k = cv2.waitKey(0)\n",
    "    if k == 27:\n",
    "        cv2.destroyAllWindows()\n",
    "        break"
   ]
  }
 ],
 "metadata": {
  "kernelspec": {
   "display_name": "Python 3",
   "language": "python",
   "name": "python3"
  },
  "language_info": {
   "codemirror_mode": {
    "name": "ipython",
    "version": 3
   },
   "file_extension": ".py",
   "mimetype": "text/x-python",
   "name": "python",
   "nbconvert_exporter": "python",
   "pygments_lexer": "ipython3",
   "version": "3.7.7"
  }
 },
 "nbformat": 4,
 "nbformat_minor": 4
}
