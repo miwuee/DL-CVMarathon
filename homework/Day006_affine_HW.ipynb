{
 "cells": [
  {
   "cell_type": "code",
   "execution_count": null,
   "metadata": {},
   "outputs": [],
   "source": [
    "import cv2\n",
    "import numpy as np\n",
    "\n",
    "img_path = 'lena.png'\n",
    "\n",
    "img = cv2.imread(img_path, cv2.IMREAD_COLOR)\n",
    "\n",
    "def rotate(image, angle, center=None, scale=1.0):\n",
    "\n",
    "    (h, w) = image.shape[:2]\n",
    "    if center is None:\n",
    "        center = (w / 2, h / 2)\n",
    "\n",
    "    M = cv2.getRotationMatrix2D(center, angle, scale)\n",
    "    rotated = cv2.warpAffine(image, M, (w, h))\n",
    "\n",
    "    return rotated\n",
    "\n",
    "img_rotated = rotate(img, 45)\n",
    "\n",
    "\n",
    "img_test = cv2.resize(img_rotated, None, fx=0.5, fy=0.5)\n",
    "\n",
    "\n",
    "m = np.float32([[1,0,100],[0,1,50]])\n",
    "\n",
    "shifted = cv2.warpAffine(img_test, m, (100, -50))\n",
    "\n",
    "while True:\n",
    "    cv2.imshow('shifted', shifted)\n",
    "    k = cv2.waitKey(0)\n",
    "    if k == 27:\n",
    "        cv2.destroyAllWindows()\n",
    "        break"
   ]
  },
  {
   "cell_type": "code",
   "execution_count": null,
   "metadata": {},
   "outputs": [],
   "source": []
  }
 ],
 "metadata": {
  "kernelspec": {
   "display_name": "Python 3",
   "language": "python",
   "name": "python3"
  },
  "language_info": {
   "codemirror_mode": {
    "name": "ipython",
    "version": 3
   },
   "file_extension": ".py",
   "mimetype": "text/x-python",
   "name": "python",
   "nbconvert_exporter": "python",
   "pygments_lexer": "ipython3",
   "version": "3.7.7"
  }
 },
 "nbformat": 4,
 "nbformat_minor": 4
}
