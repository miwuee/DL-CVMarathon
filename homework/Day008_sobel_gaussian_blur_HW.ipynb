{
 "cells": [
  {
   "cell_type": "code",
   "execution_count": 7,
   "metadata": {},
   "outputs": [],
   "source": [
    "import cv2\n",
    "import numpy as np\n",
    "\n",
    "img_path = 'lena.png'\n",
    "\n",
    "img_grey = cv2.imread(img_path, cv2.IMREAD_GRAYSCALE)\n",
    "\n",
    "img_x = cv2.Sobel(img_grey,cv2.CV_16S,dx=1, dy=0,ksize=3)\n",
    "img_y = cv2.Sobel(img_grey,cv2.CV_16S,dx=1, dy=0,ksize=3)\n",
    "img_x = cv2.convertScaleAbs(img_x) \n",
    "img_y = cv2.convertScaleAbs(img_y)\n",
    "img_sobel1 = cv2.addWeighted(img_x, 0.5, img_y, 0.5, 0)\n",
    "\n",
    "img_x = cv2.Sobel(img_grey,cv2.CV_16S,dx=1, dy=1,ksize=3)\n",
    "img_y = cv2.Sobel(img_grey,cv2.CV_16S,dx=1, dy=1,ksize=3)\n",
    "img_x = cv2.convertScaleAbs(img_x) \n",
    "img_y = cv2.convertScaleAbs(img_y)\n",
    "img_sobel2 = cv2.addWeighted(img_x, 0.5, img_y, 0.5, 0)\n",
    "\n",
    "img_x = cv2.Sobel(img_grey,cv2.CV_16S,dx=2, dy=2,ksize=3)\n",
    "img_y = cv2.Sobel(img_grey,cv2.CV_16S,dx=2, dy=2,ksize=3)\n",
    "img_x = cv2.convertScaleAbs(img_x) \n",
    "img_y = cv2.convertScaleAbs(img_y)\n",
    "img_sobel3 = cv2.addWeighted(img_x, 0.5, img_y, 0.5, 0)\n",
    "\n",
    "imgcombine=np.hstack((img_sobel1,img_sobel2,img_sobel3))\n",
    "\n",
    "while True:\n",
    "    cv2.imshow('img_sobel', imgcombine)\n",
    "    k = cv2.waitKey(0)\n",
    "    if k == 27:\n",
    "        cv2.destroyAllWindows()\n",
    "        break"
   ]
  },
  {
   "cell_type": "code",
   "execution_count": null,
   "metadata": {},
   "outputs": [],
   "source": []
  }
 ],
 "metadata": {
  "kernelspec": {
   "display_name": "Python 3",
   "language": "python",
   "name": "python3"
  },
  "language_info": {
   "codemirror_mode": {
    "name": "ipython",
    "version": 3
   },
   "file_extension": ".py",
   "mimetype": "text/x-python",
   "name": "python",
   "nbconvert_exporter": "python",
   "pygments_lexer": "ipython3",
   "version": "3.7.7"
  }
 },
 "nbformat": 4,
 "nbformat_minor": 4
}
